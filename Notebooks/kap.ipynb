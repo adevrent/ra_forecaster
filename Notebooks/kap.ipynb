{
 "cells": [
  {
   "cell_type": "code",
   "execution_count": 121,
   "metadata": {},
   "outputs": [
    {
     "name": "stdout",
     "output_type": "stream",
     "text": [
      "{'ISIN Kodu': 'TRPFB2F52416', 'Vade Tarihi': '07.05.2024', 'Döviz Cinsi': 'TRY', 'İhraç Fiyatı': '1', 'Faiz Oranı - Yıllık Basit (%)': None, 'Satışı Gerçekleştirilen Nominal Tutar': '35.000.000', 'Satışa Başlanma Tarihi': '08.08.2023', 'Kupon Sayısı': '1'}\n"
     ]
    }
   ],
   "source": [
    "import json\n",
    "import requests\n",
    "from bs4 import BeautifulSoup\n",
    "import pandas as pd\n",
    "import xlwings as xw\n",
    "\n",
    "def european_to_float(value):\n",
    "    \"\"\"\n",
    "    Convert a European formatted string to a float.\n",
    "    E.g., \"30.416.600\" -> 30416600.00\n",
    "        \"30.416.600,99\" -> 30416600.99\n",
    "    \"\"\"\n",
    "    if isinstance(value, str):\n",
    "        value = value.replace('.', '').replace(',', '.')\n",
    "    try:\n",
    "        return float(value)\n",
    "    except ValueError:\n",
    "        return None\n",
    "\n",
    "def get_security_params(infolist):\n",
    "    disclosureIndex = infolist[0]\n",
    "\n",
    "    # Step 1: Fetch HTML content\n",
    "    url = f\"https://www.kap.org.tr/tr/Bildirim/{disclosureIndex}\"\n",
    "    response = requests.get(url)\n",
    "\n",
    "    if response.status_code == 200:\n",
    "        html_content = response.text\n",
    "    else:\n",
    "        raise Exception(f\"Failed to fetch webpage: {response.status_code}\")\n",
    "\n",
    "    # Step 2: Parse the HTML\n",
    "    soup = BeautifulSoup(html_content, 'html.parser')\n",
    "\n",
    "    # Step 3: Extract several params\n",
    "    paramdict = {}\n",
    "    for label in [\"ISIN Kodu\", \"Vade Tarihi\", \"Döviz Cinsi\", \"İhraç Fiyatı\", \"Faiz Oranı - Yıllık Basit (%)\", \"Satışı Gerçekleştirilen Nominal Tutar\", \"Satışa Başlanma Tarihi\", \"Kupon Sayısı\"]:\n",
    "        param = None\n",
    "        for row in soup.find_all(\"tr\"):\n",
    "            label_div = row.find(\"div\", class_=\"bold font14\")\n",
    "            if label_div and label in label_div.text:\n",
    "                param = row.find(\"div\", class_=\"gwt-HTML control-label lineheight-32px\").text.strip()\n",
    "                paramdict[label] = param\n",
    "                break\n",
    "        if param is None:  # If the label isn't found, set None\n",
    "            paramdict[label] = param\n",
    "    print(paramdict)\n",
    "\n",
    "    # Extract the table rows manually\n",
    "    table = soup.find_all(\"table\")[5]\n",
    "    rows = table.find_all(\"tr\")\n",
    "\n",
    "    # Extract the table headers\n",
    "    headers = [header.text.strip() for header in rows[0].find_all(\"td\")]\n",
    "    \n",
    "    # Extract the table data\n",
    "    data = []\n",
    "    for row in rows[1:]:\n",
    "        data.append([cell.text.strip() for cell in row.find_all(\"td\")])\n",
    "\n",
    "    # Create the DataFrame\n",
    "    df = pd.DataFrame(data, columns=headers)\n",
    "    df[\"Ödeme Tutarı\"] = df[\"Ödeme Tutarı\"].apply(european_to_float)\n",
    "    df[\"Faiz Oranı - Dönemsel (%)\"] = df[\"Faiz Oranı - Dönemsel (%)\"].apply(european_to_float)\n",
    "    df[\"COUPON_DATE\"] = pd.to_datetime(df[\"Ödeme Tarihi\"], format=\"%d.%m.%Y\")\n",
    "    df[\"ISIN_CODE\"] = paramdict[\"ISIN Kodu\"]\n",
    "    \n",
    "    # Set coupon rate depending if FRN or not\n",
    "    if paramdict[\"Faiz Oranı - Yıllık Basit (%)\"] == None:\n",
    "        coupon = european_to_float(df[\"Faiz Oranı - Yıllık Basit (%)\"][0])\n",
    "    else:\n",
    "        coupon = european_to_float(paramdict[\"Faiz Oranı - Yıllık Basit (%)\"])\n",
    "\n",
    "    df_security_coupon = df.loc[:, [\"COUPON_DATE\", \"Faiz Oranı - Dönemsel (%)\"]].dropna()\n",
    "    df_security_coupon.columns = [\"COUPON_DATE\", \"COUPON_RATE\"]\n",
    "    df_security_coupon.set_index(\"COUPON_DATE\", inplace=True)\n",
    "\n",
    "    # Security Sheet\n",
    "    # Basis\n",
    "    if paramdict[\"Döviz Cinsi\"] == \"TRY\":\n",
    "        basis = \"ACTL365\"\n",
    "    elif paramdict[\"Döviz Cinsi\"] == \"EUR\":\n",
    "        basis = \"EU30360\"\n",
    "    else:\n",
    "        basis = \"US30360\"\n",
    "\n",
    "    fis_dict = {\n",
    "        \"ISIN_CODE\": paramdict[\"ISIN Kodu\"],\n",
    "        \"INSTRUMENT_TYPE\": None,  # instrument type is assigned below\n",
    "        \"MATURITY_DATE\": pd.to_datetime(paramdict[\"Vade Tarihi\"], format=\"%d.%m.%Y\"),\n",
    "        \"CURRENCY\": paramdict[\"Döviz Cinsi\"],\n",
    "        \"FREQUENCY\": int(paramdict[\"Kupon Sayısı\"]),\n",
    "        \"COUPON\": coupon,\n",
    "        \"SPREAD\": 0,  # hard-coded, fix later\n",
    "        \"ISSUER_CODE\": infolist[2],  # second element of input list is issuer code\n",
    "        \"ISSUE_INDEX\": 0,  # hard-coded, fix later\n",
    "        \"ISSUE_DATE\": pd.to_datetime(paramdict[\"Satışa Başlanma Tarihi\"], format=\"%d.%m.%Y\"),\n",
    "        \"DAY_YEAR_BASIS\": basis,\n",
    "        \"ISSUE_PRICE\": european_to_float(paramdict[\"İhraç Fiyatı\"]) * 100,\n",
    "        \"totalIssuedAmount\": european_to_float(paramdict[\"Satışı Gerçekleştirilen Nominal Tutar\"]),\n",
    "        \"securityType\": None,  # hard-coded, fix later\n",
    "        \"fundUser\": None  # hard-coded, fix later\n",
    "    }\n",
    "\n",
    "    # Instrument Type\n",
    "    if infolist[1]:\n",
    "        if fis_dict[\"FREQUENCY\"] == 0:\n",
    "            fis_dict[\"INSTRUMENT_TYPE\"] = \"CORP_SUKUK_DISCOUNTED\"\n",
    "        else:\n",
    "            if fis_dict[\"SPREAD\"] == 0:\n",
    "                fis_dict[\"INSTRUMENT_TYPE\"] = \"CORP_SUKUK_FIXED_COUPON\"\n",
    "            else:\n",
    "                fis_dict[\"INSTRUMENT_TYPE\"] = \"CORP_SUKUK_FLOATING\"\n",
    "    else:\n",
    "        if fis_dict[\"CURRENCY\"] == \"TRY\":\n",
    "            if fis_dict[\"FREQUENCY\"] == 0:\n",
    "                fis_dict[\"INSTRUMENT_TYPE\"] = \"CORP_DISCOUNTED\"\n",
    "            else:\n",
    "                if fis_dict[\"ISSUE_INDEX\"] == 0:\n",
    "                    if fis_dict[\"SPREAD\"] == 0:  # there are actually 0 spread FRN's, fix this later\n",
    "                        fis_dict[\"INSTRUMENT_TYPE\"] = \"CORP_FIXED_COUPON\"\n",
    "                    else:\n",
    "                        fis_dict[\"INSTRUMENT_TYPE\"] = \"CORP_FLOATING\"\n",
    "                else:\n",
    "                    fis_dict[\"INSTRUMENT_TYPE\"] = \"TÜFEX\"\n",
    "        else:\n",
    "            fis_dict[\"INSTRUMENT_TYPE\"] = \"EUROBOND\"\n",
    "\n",
    "    # Generate security dataframe from fis_dict\n",
    "    df_security = pd.Series(fis_dict)\n",
    "\n",
    "    return df_security, df_security_coupon\n",
    "\n",
    "infolist = [\"1282416\", False, \"FBB\"]\n",
    "df1, df2 = get_security_params(infolist)\n",
    "df1\n",
    "\n",
    "def parse_disclosures():\n",
    "    paramdict = {}\n",
    "    # Retrieve the data from the API\n",
    "    url = \"https://www.kap.org.tr/tr/api/disclosures\"\n",
    "    response = requests.get(url)\n",
    "\n",
    "    # Check if the request was successful\n",
    "    if response.status_code == 200:\n",
    "        # Parse the JSON response\n",
    "        disclosures = json.loads(response.text)\n",
    "        \n",
    "        # Extract 'basic' and 'detail' data into separate lists of dictionaries\n",
    "        basic_data = [disclosure['basic'] for disclosure in disclosures]\n",
    "        # detail_data = [disclosure['detail'] for disclosure in disclosures]\n",
    "    else:\n",
    "        print(\"Failed to retrieve data from the API\")\n",
    "        \n",
    "    for disc in basic_data:\n",
    "        if disc[\"title\"] in [\"Pay Dışında Sermaye Piyasası Aracı İşlemlerine İlişkin Bildirim (Faiz İçeren)\", \"Pay Dışında Sermaye Piyasası Aracı İşlemlerine İlişkin Bildirim (Faizsiz)\"]:\n",
    "            paramdict[disc[\"disclosureIndex\"]] = [disc[\"stockCodes\"]]\n",
    "    \n",
    "    print(\"type:\", type(basic_data))\n",
    "    print(\"len:\", len(basic_data))\n",
    "    \n",
    "    return paramdict"
   ]
  },
  {
   "cell_type": "code",
   "execution_count": 122,
   "metadata": {},
   "outputs": [],
   "source": [
    "def parse_disclosures():\n",
    "    paramlist = []\n",
    "    # Retrieve the data from the API\n",
    "    url = \"https://www.kap.org.tr/tr/api/disclosures\"\n",
    "    response = requests.get(url)\n",
    "\n",
    "    # Check if the request was successful\n",
    "    if response.status_code == 200:\n",
    "        # Parse the JSON response\n",
    "        disclosures = json.loads(response.text)\n",
    "        \n",
    "        # Extract 'basic' data into list of dictionaries\n",
    "        basic_data = [disclosure['basic'] for disclosure in disclosures]\n",
    "        # detail_data = [disclosure['detail'] for disclosure in disclosures]\n",
    "    else:\n",
    "        print(\"Failed to retrieve data from the API\")\n",
    "        \n",
    "    for disc in basic_data:\n",
    "        if disc[\"title\"] == \"Pay Dışında Sermaye Piyasası Aracı İşlemlerine İlişkin Bildirim (Faiz İçeren)\":\n",
    "            paramlist.append([disc[\"disclosureIndex\"], False, disc[\"stockCodes\"].split(',')[0].strip()])  # [sukuk flag, issuer code]\n",
    "        elif disc[\"title\"] == \"Pay Dışında Sermaye Piyasası Aracı İşlemlerine İlişkin Bildirim (Faizsiz)\":\n",
    "            paramlist.append([disc[\"disclosureIndex\"], True, disc[\"stockCodes\"].split(',')[0].strip()])  # [sukuk flag, issuer code]\n",
    "    \n",
    "    # print(\"type:\", type(basic_data))\n",
    "    # print(\"len:\", len(basic_data))\n",
    "    \n",
    "    return paramlist"
   ]
  },
  {
   "cell_type": "code",
   "execution_count": 123,
   "metadata": {},
   "outputs": [
    {
     "data": {
      "text/plain": [
       "[[1282451, False, 'DARDL'],\n",
       " [1282427, True, 'BRKT'],\n",
       " [1282416, False, 'FBB'],\n",
       " [1282415, False, 'FBB'],\n",
       " [1282411, True, 'EKTVK'],\n",
       " [1282403, True, 'KTKVK']]"
      ]
     },
     "execution_count": 123,
     "metadata": {},
     "output_type": "execute_result"
    }
   ],
   "source": [
    "parse_disclosures()"
   ]
  },
  {
   "cell_type": "code",
   "execution_count": 124,
   "metadata": {},
   "outputs": [
    {
     "name": "stdout",
     "output_type": "stream",
     "text": [
      "{'ISIN Kodu': 'TRSKORT52525', 'Vade Tarihi': '22.05.2025', 'Döviz Cinsi': 'TRY', 'İhraç Fiyatı': '1', 'Faiz Oranı - Yıllık Basit (%)': '61', 'Satışı Gerçekleştirilen Nominal Tutar': '200.000.000', 'Satışa Başlanma Tarihi': '02.05.2024', 'Kupon Sayısı': '4'}\n"
     ]
    },
    {
     "data": {
      "text/plain": [
       "ISIN_CODE                   TRSKORT52525\n",
       "INSTRUMENT_TYPE        CORP_FIXED_COUPON\n",
       "MATURITY_DATE        2025-05-22 00:00:00\n",
       "CURRENCY                             TRY\n",
       "FREQUENCY                              4\n",
       "COUPON                              61.0\n",
       "SPREAD                                 0\n",
       "ISSUER_CODE                          FBB\n",
       "ISSUE_INDEX                            0\n",
       "ISSUE_DATE           2024-05-02 00:00:00\n",
       "DAY_YEAR_BASIS                   ACTL365\n",
       "ISSUE_PRICE                        100.0\n",
       "totalIssuedAmount            200000000.0\n",
       "securityType                        None\n",
       "fundUser                            None\n",
       "dtype: object"
      ]
     },
     "execution_count": 124,
     "metadata": {},
     "output_type": "execute_result"
    }
   ],
   "source": [
    "infolist = [\"1281578\", False, \"FBB\"]\n",
    "df1, df2 = get_security_params(infolist)\n",
    "df1"
   ]
  },
  {
   "cell_type": "code",
   "execution_count": 125,
   "metadata": {},
   "outputs": [
    {
     "data": {
      "text/html": [
       "<div>\n",
       "<style scoped>\n",
       "    .dataframe tbody tr th:only-of-type {\n",
       "        vertical-align: middle;\n",
       "    }\n",
       "\n",
       "    .dataframe tbody tr th {\n",
       "        vertical-align: top;\n",
       "    }\n",
       "\n",
       "    .dataframe thead th {\n",
       "        text-align: right;\n",
       "    }\n",
       "</style>\n",
       "<table border=\"1\" class=\"dataframe\">\n",
       "  <thead>\n",
       "    <tr style=\"text-align: right;\">\n",
       "      <th></th>\n",
       "      <th>COUPON_RATE</th>\n",
       "    </tr>\n",
       "    <tr>\n",
       "      <th>COUPON_DATE</th>\n",
       "      <th></th>\n",
       "    </tr>\n",
       "  </thead>\n",
       "  <tbody>\n",
       "    <tr>\n",
       "      <th>2024-08-05</th>\n",
       "      <td>15.2083</td>\n",
       "    </tr>\n",
       "    <tr>\n",
       "      <th>2024-11-04</th>\n",
       "      <td>15.2083</td>\n",
       "    </tr>\n",
       "    <tr>\n",
       "      <th>2025-02-03</th>\n",
       "      <td>15.2083</td>\n",
       "    </tr>\n",
       "    <tr>\n",
       "      <th>2025-05-22</th>\n",
       "      <td>18.0494</td>\n",
       "    </tr>\n",
       "  </tbody>\n",
       "</table>\n",
       "</div>"
      ],
      "text/plain": [
       "             COUPON_RATE\n",
       "COUPON_DATE             \n",
       "2024-08-05       15.2083\n",
       "2024-11-04       15.2083\n",
       "2025-02-03       15.2083\n",
       "2025-05-22       18.0494"
      ]
     },
     "execution_count": 125,
     "metadata": {},
     "output_type": "execute_result"
    }
   ],
   "source": [
    "df2"
   ]
  },
  {
   "cell_type": "code",
   "execution_count": 126,
   "metadata": {},
   "outputs": [
    {
     "name": "stdout",
     "output_type": "stream",
     "text": [
      "{'ISIN Kodu': 'TRPFB1F52418', 'Vade Tarihi': '07.05.2024', 'Döviz Cinsi': 'TRY', 'İhraç Fiyatı': '1', 'Faiz Oranı - Yıllık Basit (%)': None, 'Satışı Gerçekleştirilen Nominal Tutar': '80.000.000', 'Satışa Başlanma Tarihi': '08.08.2023', 'Kupon Sayısı': '1'}\n"
     ]
    },
    {
     "data": {
      "text/plain": [
       "ISIN_CODE                   TRPFB1F52418\n",
       "INSTRUMENT_TYPE        CORP_FIXED_COUPON\n",
       "MATURITY_DATE        2024-05-07 00:00:00\n",
       "CURRENCY                             TRY\n",
       "FREQUENCY                              1\n",
       "COUPON                              94.7\n",
       "SPREAD                                 0\n",
       "ISSUER_CODE                          FBB\n",
       "ISSUE_INDEX                            0\n",
       "ISSUE_DATE           2023-08-08 00:00:00\n",
       "DAY_YEAR_BASIS                   ACTL365\n",
       "ISSUE_PRICE                        100.0\n",
       "totalIssuedAmount             80000000.0\n",
       "securityType                        None\n",
       "fundUser                            None\n",
       "dtype: object"
      ]
     },
     "execution_count": 126,
     "metadata": {},
     "output_type": "execute_result"
    }
   ],
   "source": [
    "infolist = [\"1282415\", False, \"FBB\"]\n",
    "df1, df2 = get_security_params(infolist)\n",
    "df1"
   ]
  },
  {
   "cell_type": "code",
   "execution_count": 127,
   "metadata": {},
   "outputs": [
    {
     "data": {
      "text/html": [
       "<div>\n",
       "<style scoped>\n",
       "    .dataframe tbody tr th:only-of-type {\n",
       "        vertical-align: middle;\n",
       "    }\n",
       "\n",
       "    .dataframe tbody tr th {\n",
       "        vertical-align: top;\n",
       "    }\n",
       "\n",
       "    .dataframe thead th {\n",
       "        text-align: right;\n",
       "    }\n",
       "</style>\n",
       "<table border=\"1\" class=\"dataframe\">\n",
       "  <thead>\n",
       "    <tr style=\"text-align: right;\">\n",
       "      <th></th>\n",
       "      <th>COUPON_RATE</th>\n",
       "    </tr>\n",
       "    <tr>\n",
       "      <th>COUPON_DATE</th>\n",
       "      <th></th>\n",
       "    </tr>\n",
       "  </thead>\n",
       "  <tbody>\n",
       "    <tr>\n",
       "      <th>2024-05-07</th>\n",
       "      <td>70.5708</td>\n",
       "    </tr>\n",
       "  </tbody>\n",
       "</table>\n",
       "</div>"
      ],
      "text/plain": [
       "             COUPON_RATE\n",
       "COUPON_DATE             \n",
       "2024-05-07       70.5708"
      ]
     },
     "execution_count": 127,
     "metadata": {},
     "output_type": "execute_result"
    }
   ],
   "source": [
    "df2"
   ]
  }
 ],
 "metadata": {
  "kernelspec": {
   "display_name": "base",
   "language": "python",
   "name": "python3"
  },
  "language_info": {
   "codemirror_mode": {
    "name": "ipython",
    "version": 3
   },
   "file_extension": ".py",
   "mimetype": "text/x-python",
   "name": "python",
   "nbconvert_exporter": "python",
   "pygments_lexer": "ipython3",
   "version": "3.11.5"
  }
 },
 "nbformat": 4,
 "nbformat_minor": 2
}
